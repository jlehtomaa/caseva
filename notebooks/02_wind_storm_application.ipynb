{
 "cells": [
  {
   "cell_type": "code",
   "execution_count": null,
   "metadata": {},
   "outputs": [],
   "source": [
    "import os\n",
    "import re\n",
    "from glob import glob\n",
    "from pathlib import Path\n",
    "import zipfile\n",
    "import tempfile\n",
    "\n",
    "import pandas as pd\n",
    "from requests import HTTPError\n",
    "\n",
    "import cdsapi\n",
    "import xarray as xr\n"
   ]
  },
  {
   "cell_type": "code",
   "execution_count": null,
   "metadata": {},
   "outputs": [],
   "source": [
    "PATH_ROOT = Path().resolve()\n",
    "PATH_DATA = PATH_ROOT / \"data\"\n",
    "\n",
    "COPERNICUS_DATASET = \"sis-european-wind-storm-indicators\"\n",
    "COPERNICUS_PRODUCT = \"windstorm_footprints\""
   ]
  },
  {
   "cell_type": "code",
   "execution_count": null,
   "metadata": {},
   "outputs": [],
   "source": [
    "def pad(num: int) -> str:\n",
    "    return f\"{num:02d}\"\n",
    "\n",
    "days = [pad(i) for i in range(1, 32) if  i != 9]\n",
    "winter_months = [pad(i) for i in [1, 2, 3, 10, 11 , 12]]\n",
    "\n",
    "missing_yrs = [2003, 2004, 2010, 2018, 2019]\n",
    "years = [str(yr) for yr in range(1979, 2022) if yr not in missing_yrs]"
   ]
  },
  {
   "cell_type": "code",
   "execution_count": null,
   "metadata": {},
   "outputs": [],
   "source": [
    "def download_data_files(years, months, days, save_dir):\n",
    "    client = cdsapi.Client()\n",
    "\n",
    "    for year in years:\n",
    "        for month in months:\n",
    "\n",
    "            request = {\n",
    "                \"product\": [COPERNICUS_PRODUCT],\n",
    "                \"variable\": \"all\",\n",
    "                \"year\": [year],\n",
    "                \"month\": [month],\n",
    "                \"day\": days,\n",
    "            }\n",
    "\n",
    "            target = os.path.join(save_dir, f\"{year}_{month}.zip\")\n",
    "\n",
    "            try:\n",
    "                client.retrieve(COPERNICUS_DATASET, request, target)\n",
    "            except HTTPError:\n",
    "                print(f\"Download failed for {target}\")\n"
   ]
  },
  {
   "cell_type": "code",
   "execution_count": null,
   "metadata": {},
   "outputs": [],
   "source": [
    "def _extract_timestamp(string):\n",
    "    time_str = re.search(r'(\\d{8})', string).group(1)\n",
    "    return pd.to_datetime(time_str)"
   ]
  },
  {
   "cell_type": "code",
   "execution_count": null,
   "metadata": {},
   "outputs": [],
   "source": [
    "def preprocess(ds):\n",
    "    filename = ds[\"FX\"].encoding['source']\n",
    "    timestamp = _extract_timestamp(filename)\n",
    "    return (\n",
    "        ds\n",
    "        .drop_vars(\"z\")\n",
    "        .squeeze()\n",
    "        .expand_dims(event=[timestamp])\n",
    "        .rename({\"FX\": \"wind_footprint\", \"Longitude\": \"lon\", \"Latitude\": \"lat\"})\n",
    "    )"
   ]
  },
  {
   "cell_type": "code",
   "execution_count": null,
   "metadata": {},
   "outputs": [],
   "source": [
    "with tempfile.TemporaryDirectory() as tmpdir:\n",
    "\n",
    "    # Load zip files from Copernicus data store.\n",
    "    download_data_files(years[:5], winter_months, days, save_dir=tmpdir)\n",
    "\n",
    "    # Unpack all zipped netcdf files.\n",
    "    zipfiles = glob(os.path.join(tmpdir, \"*.zip\"))\n",
    "    for zfile in zipfiles:\n",
    "        with zipfile.ZipFile(zfile, \"r\") as file_ref:\n",
    "            file_ref.extractall(tmpdir)\n",
    "\n",
    "    # Combine all netcdf files into a single dataset.\n",
    "    ncfiles = glob(os.path.join(tmpdir, \"*.nc\"))\n",
    "    ds = xr.open_mfdataset(\n",
    "        ncfiles,\n",
    "        preprocess=preprocess,\n",
    "        chunks={\"lat\": 32, \"lon\": 34}\n",
    "    ).chunk({\"event\": -1})\n",
    "\n",
    "    # Write to a zarr file. \n",
    "    #ds = ds.chunk({\"lat\": 32, \"lon\": 34, \"event\": -1})\n",
    "    ds.to_zarr(PATH_DATA / \"wind_footprints.zarr\", compute=True, mode=\"w\")"
   ]
  },
  {
   "cell_type": "code",
   "execution_count": null,
   "metadata": {},
   "outputs": [],
   "source": [
    "xr.open_zarr(\"data/wind_footprints.zarr/\")[\"wind_footprint\"]#.chunk({\"lat\": 32, \"lon\": 34, \"event\": -1})"
   ]
  }
 ],
 "metadata": {
  "kernelspec": {
   "display_name": "climada_technologies_env",
   "language": "python",
   "name": "python3"
  },
  "language_info": {
   "codemirror_mode": {
    "name": "ipython",
    "version": 3
   },
   "file_extension": ".py",
   "mimetype": "text/x-python",
   "name": "python",
   "nbconvert_exporter": "python",
   "pygments_lexer": "ipython3",
   "version": "3.11.6"
  }
 },
 "nbformat": 4,
 "nbformat_minor": 2
}
