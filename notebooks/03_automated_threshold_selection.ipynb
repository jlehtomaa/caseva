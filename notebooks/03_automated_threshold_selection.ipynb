{
 "cells": [
  {
   "cell_type": "code",
   "execution_count": 8,
   "metadata": {},
   "outputs": [],
   "source": [
    "from pathlib import Path\n",
    "import numpy as np\n",
    "import pandas as pd\n",
    "\n",
    "import dask\n",
    "from dask.distributed import Client, LocalCluster\n",
    "import matplotlib.pyplot as plt\n",
    "from caseva.models import ThresholdExcessModel"
   ]
  },
  {
   "cell_type": "code",
   "execution_count": 9,
   "metadata": {},
   "outputs": [],
   "source": [
    "# Define input data location.\n",
    "PATH_ROOT = Path().resolve().parent\n",
    "PATH_DATA = PATH_ROOT / \"data\""
   ]
  },
  {
   "cell_type": "code",
   "execution_count": 10,
   "metadata": {},
   "outputs": [],
   "source": [
    "@dask.delayed\n",
    "def calc_single_sample(extremes, threshold, num_years, m):\n",
    "    sample = np.random.choice(extremes, size=extremes.size, replace=True)\n",
    "\n",
    "    model = ThresholdExcessModel()\n",
    "    model.fit(data=sample, threshold=threshold, num_years=num_years)\n",
    "\n",
    "    probas = np.arange(1, m + 1) / (m + 1)\n",
    "    quants = model.dist.quantile(model.theta, probas)\n",
    "\n",
    "    distance = np.quantile(sample, probas) - quants\n",
    "\n",
    "    return np.sum(np.abs(distance)) / m\n",
    "\n",
    "\n",
    "def calc_bootstrap_mean_dist(extremes, threshold, num_years, k, m):\n",
    "\n",
    "    calculations = []\n",
    "\n",
    "    for _ in range(k):\n",
    "        calc = calc_single_sample(extremes, threshold, num_years, m)\n",
    "        calculations.append(calc)\n",
    "    \n",
    "    return dask.delayed(np.mean)(calculations)\n",
    "\n",
    "\n",
    "def get_threshold(data, num_years, k, m, min_num_extremes=10):\n",
    "\n",
    "\n",
    "    thresholds = np.quantile(data, np.linspace(0.8, 0.995, 100))\n",
    "    thresholds = np.linspace(20, 35, 50)\n",
    "    mean_distances = np.zeros_like(thresholds)\n",
    "    \n",
    "    for i, u in enumerate(thresholds):\n",
    "\n",
    "        extremes = data[data > u]\n",
    "        if extremes.size < min_num_extremes:\n",
    "            mean_distances[i] = np.inf\n",
    "            continue\n",
    "\n",
    "        try:\n",
    "            mean_distances[i] = calc_bootstrap_mean_dist(extremes, u, num_years, k, m).compute()\n",
    "        except:\n",
    "            mean_distances[i] = np.inf\n",
    "\n",
    "    \n",
    "    min_indx = np.argmin(mean_distances)\n",
    "    return mean_distances[min_indx], mean_distances\n",
    "        \n"
   ]
  },
  {
   "cell_type": "code",
   "execution_count": 11,
   "metadata": {},
   "outputs": [],
   "source": [
    "# Load data / define threshold\n",
    "data = pd.read_csv(PATH_DATA / \"rain.csv\", parse_dates=[0])\n",
    "years = {date.year for date in data[\"Date\"]}\n",
    "num_years = max(years) - min(years) + 1\n"
   ]
  },
  {
   "cell_type": "code",
   "execution_count": 12,
   "metadata": {},
   "outputs": [
    {
     "name": "stderr",
     "output_type": "stream",
     "text": [
      "2024-12-22 23:35:10,200 - distributed.worker - WARNING - Compute Failed\n",
      "Key:       calc_single_sample-9c00a436-13ac-44ec-950b-0b3af4daa979\n",
      "Function:  calc_single_sample\n",
      "args:      (array([31.8, 32.5, 27.9, 31.8, 44.5, 28.7, 30.5, 43.2, 25.9, 26.2, 35.6,\n",
      "       38.1, 27.7, 32. , 31.8, 27.4, 33. , 26.4, 39.1, 30.5, 31.8, 32.3,\n",
      "       26.9, 33. , 28.4, 30.5, 32.5, 30. , 48.5, 35.3, 40.6, 26.4, 27.2,\n",
      "       29.2, 30.5, 26.7, 34.3, 29.2, 29.2, 32.8, 27.4, 27.9, 30.5, 45.7,\n",
      "       31.8, 33.5, 33.5, 31.8, 34.8, 35.3, 37.8, 25.9, 28.4, 76.7, 25.9,\n",
      "       32.3, 26.9, 27.2, 34. , 27.9, 25.9, 33.8, 28.2, 36.6, 28.7, 30.5,\n",
      "       45.7, 86.6, 29.5, 35.6, 47.8, 47.5, 28.2, 34.3, 26.7, 27.7, 30. ,\n",
      "       48.5, 26.7, 26.9, 28.4, 30.7, 43.4, 59.4, 29. , 35.1, 53.3, 25.9,\n",
      "       33.5, 30.5, 30.2, 29. , 40.9, 42.7, 30. , 83.3, 54.9, 59.2, 26.9,\n",
      "       28.7, 31.8, 26.7, 29.5, 27.4, 28.4, 30. , 37.3, 28.2, 32.5, 34. ,\n",
      "       67.3, 31.2, 30.2, 25.9, 36.1, 36.8, 29.5, 38.4, 27.7, 27.9, 26.9,\n",
      "       31. , 29.2, 33.3, 25.9, 47. , 29.2, 32. , 33. , 26.7, 29.7, 29.2,\n",
      "       38.1, 27.2, 26.4, 26.2, 30.5, 25.9, 72.4, 27.2, 34.3, 37.1, 26.7,\n",
      "       33. , 28.4, 40.9, 26.2, 26.7, 28.2, 27.9, 2\n",
      "kwargs:    {}\n",
      "Exception: \"ValueError('Optimization failed. No solution found.')\"\n",
      "\n"
     ]
    }
   ],
   "source": [
    "with LocalCluster(n_workers=10, threads_per_worker=1) as cluster:\n",
    "    with Client(cluster) as client:\n",
    "        threshold, dists = get_threshold(data[\"Rainfall\"].values, num_years, k=250, m=500)"
   ]
  },
  {
   "cell_type": "code",
   "execution_count": 13,
   "metadata": {},
   "outputs": [
    {
     "data": {
      "text/plain": [
       "<matplotlib.collections.PathCollection at 0x15e0b4f90>"
      ]
     },
     "execution_count": 13,
     "metadata": {},
     "output_type": "execute_result"
    },
    {
     "data": {
      "image/png": "[encoded data removed]",
      "text/plain": [
       "<Figure size 640x480 with 1 Axes>"
      ]
     },
     "metadata": {},
     "output_type": "display_data"
    }
   ],
   "source": [
    "plt.scatter(np.arange(dists.size), dists)"
   ]
  },
  {
   "cell_type": "code",
   "execution_count": 14,
   "metadata": {},
   "outputs": [
    {
     "data": {
      "text/plain": [
       "array([19.98469254, 20.28702727, 20.59378009, 20.90120154, 21.20337093,\n",
       "       21.51018719, 21.80911747, 22.1151803 , 22.42606537, 22.73194283,\n",
       "       23.03118025, 23.33813618, 23.64266315, 23.94857918, 24.24944319,\n",
       "       24.56113626, 24.86572044, 25.17312045,         inf, 25.78696927,\n",
       "       26.0917307 , 26.39256035, 26.70040499, 26.99944527, 27.31402552,\n",
       "       27.61855547, 27.92023536, 28.22584963, 28.53555818, 28.84413291,\n",
       "       29.16062733, 29.44922854, 29.74210028, 30.05883626, 30.37266305,\n",
       "       30.65286617, 30.9679362 , 31.27823994, 31.61648721, 31.8839559 ,\n",
       "       32.19549538, 32.47096588, 32.81016198, 33.09961539, 33.43249723,\n",
       "       33.72777689, 33.98871773, 34.30278785, 34.62044633, 34.95569188])"
      ]
     },
     "execution_count": 14,
     "metadata": {},
     "output_type": "execute_result"
    }
   ],
   "source": [
    "dists"
   ]
  },
  {
   "cell_type": "code",
   "execution_count": 15,
   "metadata": {},
   "outputs": [
    {
     "data": {
      "text/plain": [
       "19.98469253931017"
      ]
     },
     "execution_count": 15,
     "metadata": {},
     "output_type": "execute_result"
    }
   ],
   "source": [
    "threshold"
   ]
  },
  {
   "cell_type": "code",
   "execution_count": 13,
   "metadata": {},
   "outputs": [],
   "source": []
  },
  {
   "cell_type": "code",
   "execution_count": 19,
   "metadata": {},
   "outputs": [],
   "source": []
  },
  {
   "cell_type": "code",
   "execution_count": null,
   "metadata": {},
   "outputs": [],
   "source": [
    "u = 2.5\n",
    "excesses = data[\"Rainfall\"][data[\"Rainfall\"] > u].values - u\n",
    "\n",
    "k = 50\n",
    "m = 50\n",
    "\n",
    "\n",
    "\n",
    "        res=calc_bootstrap_mean_dist(excesses, u, num_years, k, m).compute()"
   ]
  },
  {
   "cell_type": "code",
   "execution_count": null,
   "metadata": {},
   "outputs": [],
   "source": [
    "res"
   ]
  },
  {
   "cell_type": "code",
   "execution_count": null,
   "metadata": {},
   "outputs": [],
   "source": [
    "thresholds = np.quantile(data[\"Rainfall\"], np.linspace(0.5, 0.98, 50))\n",
    "\n",
    "k = 100\n",
    "m = 500\n",
    "mean_distances = np.zeros_like(thresholds)\n",
    "num_excesses = np.zeros_like(thresholds, dtype=int)\n",
    "\n",
    "\n",
    "for i, u in enumerate(thresholds):\n",
    "\n",
    "    extremes = data[\"Rainfall\"][data[\"Rainfall\"] > u].values\n",
    "    excess = extremes - u\n",
    "    num_excesses[i] = len(excess)\n",
    "\n",
    "    if num_excesses[i] < 10:\n",
    "        continue\n",
    "\n",
    "    mean_distances[i] = calc_bootstrap_mean_dist(excess, k, m).compute()\n",
    "\n",
    "    except:\n"
   ]
  },
  {
   "cell_type": "code",
   "execution_count": null,
   "metadata": {},
   "outputs": [],
   "source": []
  },
  {
   "cell_type": "code",
   "execution_count": null,
   "metadata": {},
   "outputs": [],
   "source": [
    "thresh = np.quantile(data[\"Rainfall\"], np.linspace(0.5, 0.98, 50))\n",
    "mean_distances = np.zeros_like(thresh)\n",
    "#xis = np.zeros_like(thresh)\n",
    "#sigmas = np.zeros_like(thresh)\n",
    "num_excesses = np.zeros_like(thresh, dtype=int)\n",
    "seed = 0\n",
    "rng = np.random.default_rng(seed)\n",
    "\n",
    "k = 100\n",
    "m = 500\n",
    "\n",
    "for i, u in enumerate(thresh):\n",
    "\n",
    "    extremes = data[\"Rainfall\"][data[\"Rainfall\"] > u].values\n",
    "    excess = extremes - u\n",
    "    num_excesses[i] = len(excess)\n",
    "\n",
    "    if num_excesses[i] < 10:\n",
    "        continue\n",
    "\n",
    "    # mle_0 = excess.mean()\n",
    "\n",
    "    # model = ThresholdExcessModel(\n",
    "    #     data=extremes, threshold=u, num_years=num_years\n",
    "    # )\n",
    "    # model.fit()\n",
    "\n",
    "    #xis[i] = model.theta[0]\n",
    "    #sigmas[i] = model.theta[1]\n",
    "\n",
    "    distances = np.zeros(k)\n",
    "\n",
    "    try:\n",
    "        for j in range(k):\n",
    "\n",
    "            x = rng.choice(excess, size=num_excesses[i], replace=True)\n",
    "            mle = x.mean()\n",
    "\n",
    "            model = ThresholdExcessModel(\n",
    "                data=x, threshold=u, num_years=num_years\n",
    "            )\n",
    "            model.fit()\n",
    "            quants = model.eval_quantile(np.arange(1, m+1) / (m + 1))\n",
    "\n",
    "            distances[j] = np.sum(np.abs(np.quantile(x, np.arange(1, m+1) / (m + 1)) - quants)) / m\n",
    "        mean_distances[i] = distances.mean()\n",
    "    except:\n",
    "        mean_distances[i] = np.nan\n"
   ]
  },
  {
   "cell_type": "code",
   "execution_count": null,
   "metadata": {},
   "outputs": [],
   "source": [
    "min_indx = np.argmin(mean_distances[~np.isnan(mean_distances)])\n",
    "chosen_threshold = thresh[min_indx]\n",
    "chosen_threshold"
   ]
  }
 ],
 "metadata": {
  "kernelspec": {
   "display_name": "climada_technologies_env",
   "language": "python",
   "name": "python3"
  },
  "language_info": {
   "codemirror_mode": {
    "name": "ipython",
    "version": 3
   },
   "file_extension": ".py",
   "mimetype": "text/x-python",
   "name": "python",
   "nbconvert_exporter": "python",
   "pygments_lexer": "ipython3",
   "version": "3.11.6"
  }
 },
 "nbformat": 4,
 "nbformat_minor": 2
}
