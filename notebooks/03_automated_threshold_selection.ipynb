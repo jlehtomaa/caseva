{
 "cells": [
  {
   "cell_type": "code",
   "execution_count": null,
   "metadata": {},
   "outputs": [],
   "source": [
    "thresh = np.quantile(data[\"Rainfall\"], np.linspace(0.5, 0.98, 50))\n",
    "mean_distances = np.zeros_like(thresh)\n",
    "xis = np.zeros_like(thresh)\n",
    "sigmas = np.zeros_like(thresh)\n",
    "num_excesses = np.zeros_like(thresh, dtype=int)\n",
    "seed = 0\n",
    "rng = np.random.default_rng(seed)\n",
    "\n",
    "k = 100\n",
    "m = 500\n",
    "\n",
    "for i, u in enumerate(thresh):\n",
    "\n",
    "    extremes = data[\"Rainfall\"][data[\"Rainfall\"] > u].values\n",
    "    excess = extremes - u\n",
    "    num_excesses[i] = len(excess)\n",
    "\n",
    "    if num_excesses[i] < 10:\n",
    "        continue\n",
    "\n",
    "    mle_0 = excess.mean()\n",
    "\n",
    "    model = ThresholdExcessModel(\n",
    "        data=extremes, threshold=u, num_years=num_years\n",
    "    )\n",
    "    model.fit()\n",
    "\n",
    "    xis[i] = model.theta[0]\n",
    "    sigmas[i] = model.theta[1]\n",
    "\n",
    "    distances = np.zeros(k)\n",
    "\n",
    "    try:\n",
    "        for j in range(k):\n",
    "\n",
    "            x = rng.choice(excess, size=num_excesses[i], replace=True)\n",
    "            mle = x.mean()\n",
    "\n",
    "            model = ThresholdExcessModel(\n",
    "                data=x, threshold=u, num_years=num_years\n",
    "            )\n",
    "            model.fit()\n",
    "            quants = model.eval_quantile(np.arange(1, m+1) / (m + 1))\n",
    "\n",
    "            distances[j] = np.sum(np.abs(np.quantile(x, np.arange(1, m+1) / (m + 1)) - quants)) / m\n",
    "        mean_distances[i] = distances.mean()\n",
    "    except:\n",
    "        mean_distances[i] = np.nan\n"
   ]
  },
  {
   "cell_type": "code",
   "execution_count": null,
   "metadata": {},
   "outputs": [],
   "source": [
    "min_indx = np.argmin(mean_distances[~np.isnan(mean_distances)])\n",
    "chosen_threshold = thresh[min_indx]\n",
    "chosen_threshold"
   ]
  }
 ],
 "metadata": {
  "language_info": {
   "name": "python"
  }
 },
 "nbformat": 4,
 "nbformat_minor": 2
}
